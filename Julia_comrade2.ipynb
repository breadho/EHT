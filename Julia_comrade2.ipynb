{
 "cells": [
  {
   "cell_type": "code",
   "execution_count": null,
   "id": "44e096ed-7a54-46f1-ab26-9d52861c7efa",
   "metadata": {},
   "outputs": [],
   "source": [
    "pwd()"
   ]
  },
  {
   "cell_type": "markdown",
   "id": "bf99944a-cba0-4213-baf8-fa53ef104406",
   "metadata": {},
   "source": [
    "- (원래 파이썬 경로) /Users/younghokim/.julia/conda/3/aarch64/bin/python"
   ]
  },
  {
   "cell_type": "markdown",
   "id": "b27f6468-2fb0-43a8-b5bf-f5f4ca37a0a5",
   "metadata": {},
   "source": [
    "- (astropy2 경로) /Users/younghokim/anaconda3/envs/astropy2"
   ]
  },
  {
   "cell_type": "code",
   "execution_count": null,
   "id": "07f1104e-8208-47f8-b0b4-f0a8daabd20e",
   "metadata": {},
   "outputs": [],
   "source": [
    "# 파이썬 환경 변수 설정\n",
    "\n",
    "# ENV[\"PYTHON\"] = \"/Users/younghokim/anaconda3/envs/astropy2/bin/python\""
   ]
  },
  {
   "cell_type": "code",
   "execution_count": null,
   "id": "c65d3cde-a416-41da-82d2-b14da81c4774",
   "metadata": {},
   "outputs": [],
   "source": [
    "# using Pkg\n",
    "# Pkg.build(\"PyCall\")"
   ]
  },
  {
   "cell_type": "code",
   "execution_count": null,
   "id": "c3514d08-0d06-4586-b0fd-9bd51f5186a9",
   "metadata": {},
   "outputs": [],
   "source": [
    "# using PyCall\n",
    "# PyCall.python"
   ]
  },
  {
   "cell_type": "code",
   "execution_count": null,
   "id": "288a1c36-c82f-4cf7-b127-59497a5db65d",
   "metadata": {},
   "outputs": [],
   "source": []
  },
  {
   "cell_type": "markdown",
   "id": "56ba092c-249f-42a5-a5f7-20c9946e4d6e",
   "metadata": {},
   "source": [
    "# Imaging a Black Hole using only Closure Quantities"
   ]
  },
  {
   "cell_type": "code",
   "execution_count": 1,
   "id": "b22fbcb8-d071-476a-988a-02a968548423",
   "metadata": {},
   "outputs": [],
   "source": [
    "using Comrade\n",
    "using Pyehtim"
   ]
  },
  {
   "cell_type": "code",
   "execution_count": 2,
   "id": "240c87ed-10c4-4a9f-8356-fb25a1c109af",
   "metadata": {},
   "outputs": [
    {
     "data": {
      "text/plain": [
       "StableRNGs.LehmerRNG(state=0x000000000000000000000000000000f7)"
      ]
     },
     "execution_count": 2,
     "metadata": {},
     "output_type": "execute_result"
    }
   ],
   "source": [
    "using StableRNGs\n",
    "rng = StableRNG(123)"
   ]
  },
  {
   "cell_type": "markdown",
   "id": "cc7c2df1-550c-404b-bae4-945216df5265",
   "metadata": {},
   "source": [
    "## 1. Load the Data"
   ]
  },
  {
   "cell_type": "code",
   "execution_count": 3,
   "id": "9d8fe091-faa7-4456-93c4-f014864895ab",
   "metadata": {},
   "outputs": [
    {
     "data": {
      "text/plain": [
       "Python: <ehtim.obsdata.Obsdata object at 0x16fdd9ea0>"
      ]
     },
     "execution_count": 3,
     "metadata": {},
     "output_type": "execute_result"
    }
   ],
   "source": [
    "obs = ehtim.obsdata.load_uvfits(\"comrade_data/SR1_M87_2017_096_lo_hops_netcal_StokesI.uvfits\")"
   ]
  },
  {
   "cell_type": "markdown",
   "id": "6144b2f6-0cb3-4d96-8ccc-67a3d52c75d1",
   "metadata": {},
   "source": [
    "Now we do some minor preprocessing:\n",
    "\n",
    "- Scan average the data since the data have been preprocessed so that the gain phases are coherent.\n",
    "\n",
    "- Add 1% systematic noise to deal with calibration issues that cause 1% non-closing errors."
   ]
  },
  {
   "cell_type": "code",
   "execution_count": 4,
   "id": "f967945f-000e-46bf-9523-5ab4bbffb73b",
   "metadata": {},
   "outputs": [
    {
     "name": "stderr",
     "output_type": "stream",
     "text": [
      "\u001b[36m\u001b[1m[ \u001b[22m\u001b[39m\u001b[36m\u001b[1mInfo: \u001b[22m\u001b[39mBefore homogenizing we have 25 unique times\n",
      "\u001b[36m\u001b[1m[ \u001b[22m\u001b[39m\u001b[36m\u001b[1mInfo: \u001b[22m\u001b[39mAfter homogenizing we have 25 unique times\n"
     ]
    },
    {
     "data": {
      "text/plain": [
       "Python: <ehtim.obsdata.Obsdata object at 0x2b4ee96f0>"
      ]
     },
     "execution_count": 4,
     "metadata": {},
     "output_type": "execute_result"
    }
   ],
   "source": [
    "obs = scan_average(obs).add_fractional_noise(0.015)"
   ]
  },
  {
   "cell_type": "markdown",
   "id": "36ce36aa-b9bb-4d3a-b5a1-1f5adf7aa98b",
   "metadata": {},
   "source": [
    "Now, we extract our closure quantities from the EHT data set."
   ]
  },
  {
   "cell_type": "code",
   "execution_count": 5,
   "id": "15afbd39-b8d5-4965-a67c-b3a09534895a",
   "metadata": {},
   "outputs": [
    {
     "name": "stderr",
     "output_type": "stream",
     "text": [
      "/Users/younghokim/.julia/environments/v1.9/.CondaPkg/env/lib/python3.10/site-packages/numpy/core/_methods.py:190: RuntimeWarning: invalid value encountered in double_scalars\n",
      "  ret = ret.dtype.type(ret / rcount)\n",
      "/Users/younghokim/.julia/environments/v1.9/.CondaPkg/env/lib/python3.10/site-packages/numpy/core/_methods.py:190: RuntimeWarning: invalid value encountered in double_scalars\n",
      "  ret = ret.dtype.type(ret / rcount)\n",
      "/Users/younghokim/.julia/environments/v1.9/.CondaPkg/env/lib/python3.10/site-packages/numpy/core/_methods.py:190: RuntimeWarning: invalid value encountered in double_scalars\n",
      "  ret = ret.dtype.type(ret / rcount)\n"
     ]
    },
    {
     "data": {
      "text/plain": [
       "(EHTObservation{Float64,Comrade.EHTLogClosureAmplitudeDatum{Float64}, ...}\n",
       "  source: M87\n",
       "  mjd: 57849\n",
       "  frequency: 2.27070703125e11\n",
       "  bandwidth: 1.856e9\n",
       "  stations: [:AA, :AP, :AZ, :JC, :LM, :PV, :SM]\n",
       "  nsamples: 128\n",
       ", EHTObservation{Float64,Comrade.EHTClosurePhaseDatum{Float64}, ...}\n",
       "  source: M87\n",
       "  mjd: 57849\n",
       "  frequency: 2.27070703125e11\n",
       "  bandwidth: 1.856e9\n",
       "  stations: [:AA, :AP, :AZ, :JC, :LM, :PV, :SM]\n",
       "  nsamples: 152\n",
       ")"
      ]
     },
     "execution_count": 5,
     "metadata": {},
     "output_type": "execute_result"
    }
   ],
   "source": [
    "dlcamp, dcphase  = extract_table(obs, LogClosureAmplitudes(;snrcut=3), ClosurePhases(;snrcut=3))"
   ]
  },
  {
   "cell_type": "code",
   "execution_count": 6,
   "id": "8246c1f4-5d3f-4cc4-aaad-460f26a82cdc",
   "metadata": {},
   "outputs": [
    {
     "data": {
      "text/plain": [
       "EHTObservation{Float64,Comrade.EHTLogClosureAmplitudeDatum{Float64}, ...}\n",
       "  source: M87\n",
       "  mjd: 57849\n",
       "  frequency: 2.27070703125e11\n",
       "  bandwidth: 1.856e9\n",
       "  stations: [:AA, :AP, :AZ, :JC, :LM, :PV, :SM]\n",
       "  nsamples: 128\n"
      ]
     },
     "execution_count": 6,
     "metadata": {},
     "output_type": "execute_result"
    }
   ],
   "source": [
    "dlcamp"
   ]
  },
  {
   "cell_type": "code",
   "execution_count": 7,
   "id": "cc36ad88-8a27-4d20-a6a0-a873bf64470c",
   "metadata": {},
   "outputs": [
    {
     "data": {
      "text/plain": [
       "EHTObservation{Float64,Comrade.EHTClosurePhaseDatum{Float64}, ...}\n",
       "  source: M87\n",
       "  mjd: 57849\n",
       "  frequency: 2.27070703125e11\n",
       "  bandwidth: 1.856e9\n",
       "  stations: [:AA, :AP, :AZ, :JC, :LM, :PV, :SM]\n",
       "  nsamples: 152\n"
      ]
     },
     "execution_count": 7,
     "metadata": {},
     "output_type": "execute_result"
    }
   ],
   "source": [
    "dcphase"
   ]
  },
  {
   "cell_type": "markdown",
   "id": "e844074c-cc38-4d2a-96c6-602a9a4d8d6b",
   "metadata": {},
   "source": [
    "## 2. Build the Model/Posterior"
   ]
  },
  {
   "cell_type": "markdown",
   "id": "3c998179-74bd-4805-80d6-448347d85f80",
   "metadata": {},
   "source": [
    "이 모델에서는 점 소스의 래스터로 구성된 이미지 모델을 사용하고, 일부 펄스 또는 커널로 컨볼루션하여 연속 이미지 객체를 만드는 일반 이미지 모델을 사용할 것입니다."
   ]
  },
  {
   "cell_type": "code",
   "execution_count": 8,
   "id": "172aff23-dc67-4cb5-90f3-bc99cd8b8066",
   "metadata": {},
   "outputs": [
    {
     "data": {
      "text/plain": [
       "sky (generic function with 1 method)"
      ]
     },
     "execution_count": 8,
     "metadata": {},
     "output_type": "execute_result"
    }
   ],
   "source": [
    "function sky(θ, metadata)\n",
    "    (;fg, c, σimg) = θ\n",
    "    (;K, meanpr, grid, cache) = metadata\n",
    "    \n",
    "    # Construct the image model we fix the flux to 0.6 Jy in this case\n",
    "    cp = meanpr .+ σimg.*c.params\n",
    "    rast = ((1-fg))*K(to_simplex(CenteredLR(), cp))\n",
    "    img = IntensityMap(rast, grid)\n",
    "    m = ContinuousImage(img, cache)\n",
    "    \n",
    "    # Add a large-scale gaussian to deal with the over-resolved mas flux\n",
    "    g = modify(Gaussian(), Stretch(μas2rad(250.0), μas2rad(250.0)), Renormalize(fg))\n",
    "    return m + g\n",
    "end"
   ]
  },
  {
   "cell_type": "markdown",
   "id": "7a0338d7-fcdf-4d03-bf5f-c010d0f127a5",
   "metadata": {},
   "source": [
    "이제 이미지 모델을 설정해 보겠습니다. EHT의 공칭 해상도는 20-25μas입니다. 또한 EHT는 더 큰 시야각에 그다지 민감하지 않으며, 일반적으로 60~80μas면 M87의 콤팩트 플럭스를 설명하기에 충분합니다. 이 점을 고려하면 이미지를 설명하는 데 적은 수의 픽셀만 사용하면 됩니다."
   ]
  },
  {
   "cell_type": "code",
   "execution_count": 9,
   "id": "c82e1205-37f8-41b7-9f70-7676fb04217d",
   "metadata": {},
   "outputs": [
    {
     "data": {
      "text/plain": [
       "7.27220521664304e-10"
      ]
     },
     "execution_count": 9,
     "metadata": {},
     "output_type": "execute_result"
    }
   ],
   "source": [
    "npix = 32\n",
    "fovxy = μas2rad(150.0)"
   ]
  },
  {
   "cell_type": "markdown",
   "id": "4ac5469d-cef8-4f8e-a10d-23330f67edcf",
   "metadata": {},
   "source": [
    "이제 배열 정보를 입력하여 캐시를 구성할 수 있습니다."
   ]
  },
  {
   "cell_type": "code",
   "execution_count": 10,
   "id": "8d11bc53-f9ea-4b3f-bf27-d4af27a45399",
   "metadata": {},
   "outputs": [
    {
     "data": {
      "text/plain": [
       "2-element GriddedKeys{(:X, :Y), Tuple{LinRange{Float64, Int64}, LinRange{Float64, Int64}}, ComradeBase.NoHeader, Float64}:\n",
       " LinRange{Float64}(-3.5224744018114725e-10, 3.5224744018114725e-10, 32)\n",
       " LinRange{Float64}(-3.5224744018114725e-10, 3.5224744018114725e-10, 32)"
      ]
     },
     "execution_count": 10,
     "metadata": {},
     "output_type": "execute_result"
    }
   ],
   "source": [
    "grid = imagepixels(fovxy, fovxy, npix, npix)"
   ]
  },
  {
   "cell_type": "code",
   "execution_count": 11,
   "id": "811af267-c141-4c38-9aa3-b3bf6ca1ee7a",
   "metadata": {},
   "outputs": [
    {
     "data": {
      "text/plain": [
       "2-element GriddedKeys{(:X, :Y), Tuple{LinRange{Float64, Int64}, LinRange{Float64, Int64}}, ComradeBase.NoHeader, Float64}:\n",
       " LinRange{Float64}(-3.5224744018114725e-10, 3.5224744018114725e-10, 32)\n",
       " LinRange{Float64}(-3.5224744018114725e-10, 3.5224744018114725e-10, 32)"
      ]
     },
     "execution_count": 11,
     "metadata": {},
     "output_type": "execute_result"
    }
   ],
   "source": [
    "grid"
   ]
  },
  {
   "cell_type": "code",
   "execution_count": 12,
   "id": "4ae0c1d3-dfd3-4855-9c8c-b176fafff5a1",
   "metadata": {},
   "outputs": [
    {
     "data": {
      "text/plain": [
       "2-dimensional \u001b[1mKeyedArray(NamedDimsArray(...))\u001b[22m with keys:\n",
       "↓   \u001b[36mX ∈ \u001b[39m\u001b[36m32-element LinRange{Float64,...}\u001b[39m\n",
       "→   \u001b[36mY ∈ \u001b[39m\u001b[36m32-element LinRange{Float64,...}\u001b[39m\n",
       "And data, \u001b[0m\u001b[1m32×32 NamedDimsArray(::Matrix{Float64}, (:X, :Y))\u001b[22m:\n",
       "  \u001b[0m               \u001b[36m(-3.52247e-10)\u001b[39m  …  \u001b[36m(3.29522e-10)\u001b[39m  \u001b[36m(3.52247e-10)\u001b[39m\n",
       " \u001b[36m(-3.52247e-10)\u001b[39m     0.0               0.0            0.0\n",
       " \u001b[36m(-3.29522e-10)\u001b[39m     0.0               0.0            0.0\n",
       " \u001b[36m(-3.06796e-10)\u001b[39m     0.0               0.0            0.0\n",
       " \u001b[36m(-2.84071e-10)\u001b[39m     0.0               0.0            0.0\n",
       " \u001b[36m(-2.61345e-10)\u001b[39m     0.0          …    0.0            0.0\n",
       " \u001b[36m(-2.38619e-10)\u001b[39m     0.0               0.0            0.0\n",
       " \u001b[36m(-2.15894e-10)\u001b[39m     0.0               0.0            0.0\n",
       " \u001b[36m(-1.93168e-10)\u001b[39m     0.0               0.0            0.0\n",
       " \u001b[36m(-1.70442e-10)\u001b[39m     0.0               0.0            0.0\n",
       "    ⋮                            ⋱    ⋮            \n",
       "  \u001b[36m(1.47717e-10)\u001b[39m     0.0               0.0            0.0\n",
       "  \u001b[36m(1.70442e-10)\u001b[39m     0.0               0.0            0.0\n",
       "  \u001b[36m(1.93168e-10)\u001b[39m     0.0               0.0            0.0\n",
       "  \u001b[36m(2.15894e-10)\u001b[39m     0.0               0.0            0.0\n",
       "  \u001b[36m(2.38619e-10)\u001b[39m     0.0          …    0.0            0.0\n",
       "  \u001b[36m(2.61345e-10)\u001b[39m     0.0               0.0            0.0\n",
       "  \u001b[36m(2.84071e-10)\u001b[39m     0.0               0.0            0.0\n",
       "  \u001b[36m(3.06796e-10)\u001b[39m     0.0               0.0            0.0\n",
       "  \u001b[36m(3.29522e-10)\u001b[39m     0.0               0.0            0.0\n",
       "  \u001b[36m(3.52247e-10)\u001b[39m     0.0          …    0.0            0.0"
      ]
     },
     "execution_count": 12,
     "metadata": {},
     "output_type": "execute_result"
    }
   ],
   "source": [
    "buffer = IntensityMap(zeros(npix, npix), grid)"
   ]
  },
  {
   "cell_type": "code",
   "execution_count": 13,
   "id": "0f9c504f-9650-4cb9-a8a9-4273a03df20c",
   "metadata": {},
   "outputs": [
    {
     "data": {
      "text/plain": [
       "32-element LinRange{Float64, Int64}:\n",
       " -3.52247e-10, -3.29522e-10, -3.06796e-10, …, 3.29522e-10, 3.52247e-10"
      ]
     },
     "execution_count": 13,
     "metadata": {},
     "output_type": "execute_result"
    }
   ],
   "source": [
    "buffer.X"
   ]
  },
  {
   "cell_type": "code",
   "execution_count": 14,
   "id": "d468c269-eafd-480c-aba6-068abe773f69",
   "metadata": {},
   "outputs": [
    {
     "data": {
      "text/plain": [
       "32-element LinRange{Float64, Int64}:\n",
       " -3.52247e-10, -3.29522e-10, -3.06796e-10, …, 3.29522e-10, 3.52247e-10"
      ]
     },
     "execution_count": 14,
     "metadata": {},
     "output_type": "execute_result"
    }
   ],
   "source": [
    "buffer.Y"
   ]
  },
  {
   "cell_type": "code",
   "execution_count": 15,
   "id": "6c7f85ad-5236-44b9-b351-80cf7084ae81",
   "metadata": {},
   "outputs": [
    {
     "data": {
      "text/plain": [
       "VLBISkyModels.ObservedNUFT{NFFTAlg{Float64, AbstractNFFTs.PrecomputeFlags, UInt32}, Matrix{Float64}}(NFFTAlg{Float64, AbstractNFFTs.PrecomputeFlags, UInt32}(1, 4, 2.0, :kaiser_bessel, AbstractNFFTs.POLYNOMIAL, true, false, true, 0x00000000), [-4.405690154666661e9 787577.6145833326 … -5.999801315555549e9 -15551.297851562484; -4.523017159111106e9 -1.6838098888888871e6 … 3.059254300444441e9 118294.64453124987])"
      ]
     },
     "execution_count": 15,
     "metadata": {},
     "output_type": "execute_result"
    }
   ],
   "source": [
    "nfft_result = NFFTAlg(dlcamp)"
   ]
  },
  {
   "cell_type": "code",
   "execution_count": 16,
   "id": "cb1dae33-6313-4278-accc-2ac3174ed286",
   "metadata": {},
   "outputs": [
    {
     "data": {
      "text/plain": [
       "NFFTAlg{Float64, AbstractNFFTs.PrecomputeFlags, UInt32}(1, 4, 2.0, :kaiser_bessel, AbstractNFFTs.POLYNOMIAL, true, false, true, 0x00000000)"
      ]
     },
     "execution_count": 16,
     "metadata": {},
     "output_type": "execute_result"
    }
   ],
   "source": [
    "nfft_result.alg"
   ]
  },
  {
   "cell_type": "code",
   "execution_count": 17,
   "id": "bd965fa8-c29e-4903-badc-9c64be958c94",
   "metadata": {},
   "outputs": [
    {
     "data": {
      "text/plain": [
       "2×274 Matrix{Float64}:\n",
       " -4.40569e9   7.87578e5  -4.4443e9   …  -5.9998e9   -15551.3\n",
       " -4.52302e9  -1.68381e6  -4.59783e9      3.05925e9       1.18295e5"
      ]
     },
     "execution_count": 17,
     "metadata": {},
     "output_type": "execute_result"
    }
   ],
   "source": [
    "nfft_result.uv"
   ]
  },
  {
   "cell_type": "markdown",
   "id": "60b45a2e-ef85-4916-9dfe-683244c57e2d",
   "metadata": {},
   "source": [
    "```\n",
    "VLBISkyModels.NUFTCache{VLBISkyModels.ObservedNUFT{NFFTAlg{Float64,\n",
    "                                                            AbstractNFFTs.PrecomputeFlags,\n",
    "                                                            UInt32},\n",
    "                                                    Matrix{Float64}\n",
    "                                                   }, \n",
    "                        NFFT.NFFTPlan{Float64, 2, 1}, \n",
    "                        Vector{ComplexF64}, \n",
    "                        BSplinePulse{3}, \n",
    "                        KeyedArray{Float64, \n",
    "                                        2, \n",
    "                                    NamedDimsArray{(:X, :Y), \n",
    "                                                    Float64, \n",
    "                                                    2, \n",
    "                                                    Matrix{Float64}\n",
    "                                                   }, \n",
    "                                    GriddedKeys{(:X, :Y), \n",
    "                                                Tuple{LinRange{Float64, Int64},\n",
    "                                                        LinRange{Float64, Int64}\n",
    "                                                      }, \n",
    "                                                ComradeBase.NoHeader, \n",
    "                                                Float64}\n",
    "                                                }\n",
    "                                    }\n",
    "                        \n",
    "(VLBISkyModels.ObservedNUFT{NFFTAlg{Float64,\n",
    "                                    AbstractNFFTs.PrecomputeFlags,\n",
    "                                    UInt32},\n",
    "                            Matrix{Float64}}\n",
    "\n",
    "(NFFTAlg{Float64, AbstractNFFTs.PrecomputeFlags, UInt32}\n",
    "\n",
    "(1, 4, 2.0, :kaiser_bessel, AbstractNFFTs.POLYNOMIAL, true, false, true, 0x00000000),\n",
    "\n",
    "[-4.405690154666661e9 787577.6145833326 … -5.999801315555549e9 -15551.297851562484;\n",
    " -4.523017159111106e9 -1.6838098888888871e6 … 3.059254300444441e9 118294.64453124987]),\n",
    "\n",
    "NFFTPlan with 274 sampling points for an input array of size(32, 32) and an output array of size(274,) with dims 1:2,\n",
    "\n",
    "ComplexF64[0.7014670924816703 - 0.519511453845776im,\n",
    "0.9999999862106403 - 6.398624051637031e-5im,\n",
    "0.6947985314160843 - 0.5233374146500747im,\n",
    "0.9328845732113544 - 0.16336912604935844im,\n",
    "0.9329421134238738 + 0.16331744240563614im,\n",
    "0.6948519110447875 + 0.5233083088067162im,\n",
    "0.7925669922789302 + 0.40478845348863063im,\n",
    "0.9999999864389528 - 6.519719206334107e-5im,\n",
    "0.9340555032742773 - 0.1520910238460368im,\n",
    "0.6896791530194316 - 0.5261728587493705im  …\n",
    "0.8376666586657548 + 0.1784956664688869im,\n",
    "0.9196690775195503 + 0.09173305645579018im,\n",
    "0.9135584686897926 + 0.29199716871629755im,\n",
    "0.9135610039654034 + 0.2919905620278203im,\n",
    "0.8899638273254515 + 0.28719490128071723im,\n",
    "0.9568100109264257 + 0.09814170760184636im,\n",
    "0.8899622135777404 + 0.287201492222944im,\n",
    "0.9925668796456906 + 0.0027765725149323534im,\n",
    "0.8376650833595861 - 0.17848899851834446im,\n",
    "0.9999999999247222 + 7.335331210317892e-6im],\n",
    "\n",
    "BSplinePulse{3}(),\n",
    "\n",
    "[0.0 0.0 … 0.0 0.0; 0.0 0.0 … 0.0 0.0; … ; 0.0 0.0 … 0.0 0.0; 0.0 0.0 … 0.0 0.0])\n",
    "```"
   ]
  },
  {
   "cell_type": "code",
   "execution_count": 20,
   "id": "32facb9b-15fc-4d82-b3ac-a5b1112b6f0f",
   "metadata": {},
   "outputs": [
    {
     "data": {
      "text/plain": [
       "VLBISkyModels.NUFTCache{NFFTAlg{Float64, AbstractNFFTs.PrecomputeFlags, UInt32}, Nothing, Nothing, BSplinePulse{3}, KeyedArray{Float64, 2, NamedDimsArray{(:X, :Y), Float64, 2, Matrix{Float64}}, GriddedKeys{(:X, :Y), Tuple{LinRange{Float64, Int64}, LinRange{Float64, Int64}}, ComradeBase.NoHeader, Float64}}}(NFFTAlg{Float64, AbstractNFFTs.PrecomputeFlags, UInt32}(1, 4, 2.0, :kaiser_bessel, AbstractNFFTs.POLYNOMIAL, true, false, true, 0x00000000), nothing, nothing, BSplinePulse{3}(), [0.0 0.0 … 0.0 0.0; 0.0 0.0 … 0.0 0.0; … ; 0.0 0.0 … 0.0 0.0; 0.0 0.0 … 0.0 0.0])"
      ]
     },
     "execution_count": 20,
     "metadata": {},
     "output_type": "execute_result"
    }
   ],
   "source": [
    "cache = create_cache(nfft_result.alg, buffer, BSplinePulse{3}())"
   ]
  },
  {
   "cell_type": "code",
   "execution_count": 21,
   "id": "a42161ce-9b11-45a5-93b1-fee13a65ffd8",
   "metadata": {},
   "outputs": [],
   "source": [
    "using VLBIImagePriors, Distributions, DistributionsAD"
   ]
  },
  {
   "cell_type": "code",
   "execution_count": 22,
   "id": "a8bc50b9-52f6-48f5-93a5-e0dc9a917786",
   "metadata": {},
   "outputs": [
    {
     "data": {
      "text/plain": [
       "2-dimensional \u001b[1mKeyedArray(NamedDimsArray(...))\u001b[22m with keys:\n",
       "↓   \u001b[36mX ∈ \u001b[39m\u001b[36m32-element LinRange{Float64,...}\u001b[39m\n",
       "→   \u001b[36mY ∈ \u001b[39m\u001b[36m32-element LinRange{Float64,...}\u001b[39m\n",
       "And data, \u001b[0m\u001b[1m32×32 NamedDimsArray(::Matrix{Float64}, (:X, :Y))\u001b[22m:\n",
       "  \u001b[0m               \u001b[36m(-3.52247e-10)\u001b[39m  …  \u001b[36m(3.29522e-10)\u001b[39m  \u001b[36m(3.52247e-10)\u001b[39m\n",
       " \u001b[36m(-3.52247e-10)\u001b[39m     6.37537e-8        1.32434e-7     6.37537e-8\n",
       " \u001b[36m(-3.29522e-10)\u001b[39m     1.32434e-7        2.751e-7       1.32434e-7\n",
       " \u001b[36m(-3.06796e-10)\u001b[39m     2.62014e-7        5.44273e-7     2.62014e-7\n",
       " \u001b[36m(-2.84071e-10)\u001b[39m     4.93724e-7        1.0256e-6      4.93724e-7\n",
       " \u001b[36m(-2.61345e-10)\u001b[39m     8.86092e-7   …    1.84065e-6     8.86092e-7\n",
       " \u001b[36m(-2.38619e-10)\u001b[39m     1.51463e-6        3.14629e-6     1.51463e-6\n",
       " \u001b[36m(-2.15894e-10)\u001b[39m     2.46586e-6        5.12225e-6     2.46586e-6\n",
       " \u001b[36m(-1.93168e-10)\u001b[39m     3.82352e-6        7.94248e-6     3.82352e-6\n",
       " \u001b[36m(-1.70442e-10)\u001b[39m     5.64668e-6        1.17297e-5     5.64668e-6\n",
       "    ⋮                            ⋱    ⋮            \n",
       "  \u001b[36m(1.47717e-10)\u001b[39m     7.94248e-6        1.64987e-5     7.94248e-6\n",
       "  \u001b[36m(1.70442e-10)\u001b[39m     5.64668e-6        1.17297e-5     5.64668e-6\n",
       "  \u001b[36m(1.93168e-10)\u001b[39m     3.82352e-6        7.94248e-6     3.82352e-6\n",
       "  \u001b[36m(2.15894e-10)\u001b[39m     2.46586e-6        5.12225e-6     2.46586e-6\n",
       "  \u001b[36m(2.38619e-10)\u001b[39m     1.51463e-6   …    3.14629e-6     1.51463e-6\n",
       "  \u001b[36m(2.61345e-10)\u001b[39m     8.86092e-7        1.84065e-6     8.86092e-7\n",
       "  \u001b[36m(2.84071e-10)\u001b[39m     4.93724e-7        1.0256e-6      4.93724e-7\n",
       "  \u001b[36m(3.06796e-10)\u001b[39m     2.62014e-7        5.44273e-7     2.62014e-7\n",
       "  \u001b[36m(3.29522e-10)\u001b[39m     1.32434e-7        2.751e-7       1.32434e-7\n",
       "  \u001b[36m(3.52247e-10)\u001b[39m     6.37537e-8   …    1.32434e-7     6.37537e-8"
      ]
     },
     "execution_count": 22,
     "metadata": {},
     "output_type": "execute_result"
    }
   ],
   "source": [
    "fwhmfac = 2*sqrt(2*log(2))\n",
    "mpr = modify(Gaussian(), Stretch(μas2rad(50.0)./fwhmfac))\n",
    "imgpr = intensitymap(mpr, grid)"
   ]
  },
  {
   "cell_type": "markdown",
   "id": "d433b4e8-8825-4df7-988b-b16e80c267b5",
   "metadata": {},
   "source": [
    "이제 실제로 심플렉스에서 이미지를 모델링하고 있으므로 평균 이미지에 단위 플럭스가 있는지 확인해야 합니다."
   ]
  },
  {
   "cell_type": "code",
   "execution_count": 23,
   "id": "f9210855-d30b-4ce2-9ff0-91beeb8ce9e9",
   "metadata": {},
   "outputs": [
    {
     "data": {
      "text/plain": [
       "(meanpr = [-7.554221225633777 -6.823167558636959 … -6.823167558636959 -7.554221225633777; -6.823167558636959 -6.0921138916401425 … -6.0921138916401425 -6.823167558636959; … ; -6.823167558636959 -6.0921138916401425 … -6.0921138916401425 -6.823167558636959; -7.554221225633777 -6.823167558636959 … -6.823167558636959 -7.554221225633777], K = CenterImage{Matrix{Float64}, Tuple{Int64, Int64}}([0.9944957386363638 -0.005326704545454383 … 0.00532670454545453 0.005504261363636347; -0.005326704545454383 0.9948393969941346 … 0.0051606030058651 0.005326704545454565; … ; 0.00532670454545453 0.0051606030058651 … 0.9948393969941348 -0.005326704545454544; 0.005504261363636347 0.005326704545454565 … -0.005326704545454544 0.9944957386363638], (32, 32)), grid = GriddedKeys{(:X, :Y)}\n",
       "\tX: LinRange{Float64}(-3.5224744018114725e-10, 3.5224744018114725e-10, 32)\n",
       "\tY: LinRange{Float64}(-3.5224744018114725e-10, 3.5224744018114725e-10, 32)\n",
       ", cache = VLBISkyModels.NUFTCache{NFFTAlg{Float64, AbstractNFFTs.PrecomputeFlags, UInt32}, Nothing, Nothing, BSplinePulse{3}, KeyedArray{Float64, 2, NamedDimsArray{(:X, :Y), Float64, 2, Matrix{Float64}}, GriddedKeys{(:X, :Y), Tuple{LinRange{Float64, Int64}, LinRange{Float64, Int64}}, ComradeBase.NoHeader, Float64}}}(NFFTAlg{Float64, AbstractNFFTs.PrecomputeFlags, UInt32}(1, 4, 2.0, :kaiser_bessel, AbstractNFFTs.POLYNOMIAL, true, false, true, 0x00000000), nothing, nothing, BSplinePulse{3}(), [0.0 0.0 … 0.0 0.0; 0.0 0.0 … 0.0 0.0; … ; 0.0 0.0 … 0.0 0.0; 0.0 0.0 … 0.0 0.0]))"
      ]
     },
     "execution_count": 23,
     "metadata": {},
     "output_type": "execute_result"
    }
   ],
   "source": [
    "imgpr ./= flux(imgpr)\n",
    "\n",
    "meanpr = to_real(CenteredLR(), Comrade.baseimage(imgpr))\n",
    "metadata = (;meanpr,K=CenterImage(imgpr), grid, cache)"
   ]
  },
  {
   "cell_type": "markdown",
   "id": "89d70c16-1da6-4e63-9f43-27b5c409c319",
   "metadata": {},
   "source": [
    "또한 이미지의 해상도에 대한 합리적인 추측이 필요합니다. 전파 천문학의 경우 이미지에서 대략적으로 가장 긴 기준선이 이 값을 제공합니다. 이를 픽셀 공간에 넣으려면 픽셀 크기로 나누면 됩니다."
   ]
  },
  {
   "cell_type": "code",
   "execution_count": 24,
   "id": "ded87f57-8bc4-49b3-83bd-34db8c1830ce",
   "metadata": {},
   "outputs": [
    {
     "data": {
      "text/plain": [
       "5.326336637737519"
      ]
     },
     "execution_count": 24,
     "metadata": {},
     "output_type": "execute_result"
    }
   ],
   "source": [
    "beam = beamsize(dlcamp)\n",
    "rat = (beam/(step(grid.X)))"
   ]
  },
  {
   "cell_type": "code",
   "execution_count": 33,
   "id": "7ba3b309-113f-457a-8580-eb5f8e40160e",
   "metadata": {},
   "outputs": [
    {
     "data": {
      "text/plain": [
       "1.2104441588297418e-10"
      ]
     },
     "execution_count": 33,
     "metadata": {},
     "output_type": "execute_result"
    }
   ],
   "source": [
    "beam"
   ]
  },
  {
   "cell_type": "code",
   "execution_count": 34,
   "id": "86af27dd-da8c-40af-8e89-1f78aa555770",
   "metadata": {},
   "outputs": [
    {
     "data": {
      "text/plain": [
       "5.326336637737519"
      ]
     },
     "execution_count": 34,
     "metadata": {},
     "output_type": "execute_result"
    }
   ],
   "source": [
    "rat"
   ]
  },
  {
   "cell_type": "markdown",
   "id": "d5d24bc5-9aa3-4cef-9b2e-556f7b29c906",
   "metadata": {},
   "source": [
    "가우스 마르코프 랜덤 필드를 효율적으로 만들기 위해 먼저 이미지 픽셀 수에 따라 선형적으로 스케일링할 수 있는 여러 가지 양을 미리 계산합니다. 이렇게 하면 일반적인 가우스 프로세스에서 얻을 수 있는 N^3 스케일링을 크게 개선할 수 있습니다."
   ]
  },
  {
   "cell_type": "code",
   "execution_count": 25,
   "id": "f16bee04-9faf-4a24-a8ac-4b088d3e9484",
   "metadata": {
    "scrolled": true
   },
   "outputs": [],
   "source": [
    "crcache = MarkovRandomFieldCache(meanpr);"
   ]
  },
  {
   "cell_type": "markdown",
   "id": "0e6fe0b6-b547-40d4-85ca-0270a46bdeea",
   "metadata": {},
   "source": [
    "베이지안 접근법의 장점 중 하나는 기존 RML 평가와 달리 prior/레귤레이터의 하이퍼파라미터에 맞출 수 있다는 것입니다. 이 계층적 선행을 구축하기 위해 먼저 정규화기 하이퍼파라미터를 받아들이고 해당 하이퍼파라미터가 주어진 이미지 선행을 반환하는 맵을 만들 것입니다."
   ]
  },
  {
   "cell_type": "code",
   "execution_count": 26,
   "id": "3855c79f-a28b-4d43-8d5b-5f3ca4314922",
   "metadata": {},
   "outputs": [
    {
     "data": {
      "text/plain": [
       "#3 (generic function with 1 method)"
      ]
     },
     "execution_count": 26,
     "metadata": {},
     "output_type": "execute_result"
    }
   ],
   "source": [
    "fmap = let crcache=crcache\n",
    "    x -> GaussMarkovRandomField(x, 1.0, crcache)\n",
    "end"
   ]
  },
  {
   "cell_type": "markdown",
   "id": "66f432f1-8840-426f-a166-b58d12ffffe3",
   "metadata": {},
   "source": [
    "이제 마침내 이미지 prior를 형성할 수 있습니다. 이를 위해 과적합을 방지하기 위해 상관 관계 길이가 역 감마 선형에 의해 주어지는 계층적 선형을 사용합니다. 가우스 마르코프 랜덤 필드는 매우 유연한 모델입니다. 과적합을 방지하기 위해 복잡성에 불이익을 주는 전제를 사용하는 것이 일반적입니다. 따라서 우리는 평균 이미지와의 유사성을 강화하고 평활성을 선호하는 전제 조건을 사용하고자 합니다."
   ]
  },
  {
   "cell_type": "code",
   "execution_count": 27,
   "id": "95359ad1-ebc2-4ec8-b233-721da6ae1129",
   "metadata": {
    "scrolled": true
   },
   "outputs": [
    {
     "data": {
      "text/plain": [
       "Posterior{RadioLikelihood{Comrade.ModelMetadata{typeof(sky), NamedTuple{(:meanpr, :K, :grid, :cache), Tuple{Matrix{Float64}, CenterImage{Matrix{Float64}, Tuple{Int64, Int64}}, GriddedKeys{(:X, :Y), Tuple{LinRange{Float64, Int64}, LinRange{Float64, Int64}}, ComradeBase.NoHeader, Float64}, VLBISkyModels.NUFTCache{NFFTAlg{Float64, AbstractNFFTs.PrecomputeFlags, UInt32}, Nothing, Nothing, BSplinePulse{3}, KeyedArray{Float64, 2, NamedDimsArray{(:X, :Y), Float64, 2, Matrix{Float64}}, GriddedKeys{(:X, :Y), Tuple{LinRange{Float64, Int64}, LinRange{Float64, Int64}}, ComradeBase.NoHeader, Float64}}}}}}, Nothing, Tuple{Comrade.EHTObservation{Float64, Comrade.EHTLogClosureAmplitudeDatum{Float64}, StructArrays.StructVector{Comrade.EHTLogClosureAmplitudeDatum{Float64}, NamedTuple{(:measurement, :error, :U1, :V1, :U2, :V2, :U3, :V3, :U4, :V4, :T, :F, :quadrangle), Tuple{Vector{Float64}, Vector{Float64}, Vector{Float64}, Vector{Float64}, Vector{Float64}, Vector{Float64}, Vector{Float64}, Vector{Float64}, Vector{Float64}, Vector{Float64}, Vector{Float64}, Vector{Float64}, Vector{NTuple{4, Symbol}}}}, Int64}, Comrade.ClosureConfig{Comrade.EHTObservation{Float64, Comrade.EHTVisibilityDatum{Float64}, StructArrays.StructVector{Comrade.EHTVisibilityDatum{Float64}, NamedTuple{(:measurement, :error, :U, :V, :T, :F, :baseline), Tuple{Vector{ComplexF64}, Vector{Float64}, Vector{Float64}, Vector{Float64}, Vector{Float64}, Vector{Float64}, Vector{Tuple{Symbol, Symbol}}}}, Int64}, Comrade.EHTArrayConfiguration{Float64, TypedTables.Table{NamedTuple{(:sites, :X, :Y, :Z, :SEFD1, :SEFD2, :fr_parallactic, :fr_elevation, :fr_offset), Tuple{Symbol, Vararg{Float64, 8}}}, 1, NamedTuple{(:sites, :X, :Y, :Z, :SEFD1, :SEFD2, :fr_parallactic, :fr_elevation, :fr_offset), Tuple{Vector{Symbol}, Vararg{Vector{Float64}, 8}}}}, TypedTables.Table{NamedTuple{(:start, :stop), Tuple{Float64, Float64}}, 1, NamedTuple{(:start, :stop), Tuple{Vector{Float64}, Vector{Float64}}}}, StructArrays.StructVector{Comrade.ArrayBaselineDatum, NamedTuple{(:U, :V, :T, :F, :baseline, :error, :elevation, :parallactic), Tuple{Vector{Float64}, Vector{Float64}, Vector{Float64}, Vector{Float64}, Vector{Tuple{Symbol, Symbol}}, Vector{Float64}, StructArrays.StructVector{Tuple{Float64, Float64}, Tuple{Vector{Float64}, Vector{Float64}}, Int64}, StructArrays.StructVector{Tuple{Float64, Float64}, Tuple{Vector{Float64}, Vector{Float64}}, Int64}}}, Int64}}, Int64}, SparseArrays.SparseMatrixCSC{Float64, Int64}}, Int64}, Comrade.EHTObservation{Float64, Comrade.EHTClosurePhaseDatum{Float64}, StructArrays.StructVector{Comrade.EHTClosurePhaseDatum{Float64}, NamedTuple{(:measurement, :error, :U1, :V1, :U2, :V2, :U3, :V3, :T, :F, :triangle), Tuple{Vector{Float64}, Vector{Float64}, Vector{Float64}, Vector{Float64}, Vector{Float64}, Vector{Float64}, Vector{Float64}, Vector{Float64}, Vector{Float64}, Vector{Float64}, Vector{Tuple{Symbol, Symbol, Symbol}}}}, Int64}, Comrade.ClosureConfig{Comrade.EHTObservation{Float64, Comrade.EHTVisibilityDatum{Float64}, StructArrays.StructVector{Comrade.EHTVisibilityDatum{Float64}, NamedTuple{(:measurement, :error, :U, :V, :T, :F, :baseline), Tuple{Vector{ComplexF64}, Vector{Float64}, Vector{Float64}, Vector{Float64}, Vector{Float64}, Vector{Float64}, Vector{Tuple{Symbol, Symbol}}}}, Int64}, Comrade.EHTArrayConfiguration{Float64, TypedTables.Table{NamedTuple{(:sites, :X, :Y, :Z, :SEFD1, :SEFD2, :fr_parallactic, :fr_elevation, :fr_offset), Tuple{Symbol, Vararg{Float64, 8}}}, 1, NamedTuple{(:sites, :X, :Y, :Z, :SEFD1, :SEFD2, :fr_parallactic, :fr_elevation, :fr_offset), Tuple{Vector{Symbol}, Vararg{Vector{Float64}, 8}}}}, TypedTables.Table{NamedTuple{(:start, :stop), Tuple{Float64, Float64}}, 1, NamedTuple{(:start, :stop), Tuple{Vector{Float64}, Vector{Float64}}}}, StructArrays.StructVector{Comrade.ArrayBaselineDatum, NamedTuple{(:U, :V, :T, :F, :baseline, :error, :elevation, :parallactic), Tuple{Vector{Float64}, Vector{Float64}, Vector{Float64}, Vector{Float64}, Vector{Tuple{Symbol, Symbol}}, Vector{Float64}, StructArrays.StructVector{Tuple{Float64, Float64}, Tuple{Vector{Float64}, Vector{Float64}}, Int64}, StructArrays.StructVector{Tuple{Float64, Float64}, Tuple{Vector{Float64}, Vector{Float64}}, Int64}}}, Int64}}, Int64}, SparseArrays.SparseMatrixCSC{Float64, Int64}}, Int64}}, Tuple{Comrade.ConditionedLikelihood{Comrade.var\"#34#35\"{Float64, Base.Fix2{typeof(logclosure_amplitudes), Comrade.ClosureConfig{Comrade.EHTObservation{Float64, Comrade.EHTVisibilityDatum{Float64}, StructArrays.StructVector{Comrade.EHTVisibilityDatum{Float64}, NamedTuple{(:measurement, :error, :U, :V, :T, :F, :baseline), Tuple{Vector{ComplexF64}, Vector{Float64}, Vector{Float64}, Vector{Float64}, Vector{Float64}, Vector{Float64}, Vector{Tuple{Symbol, Symbol}}}}, Int64}, Comrade.EHTArrayConfiguration{Float64, TypedTables.Table{NamedTuple{(:sites, :X, :Y, :Z, :SEFD1, :SEFD2, :fr_parallactic, :fr_elevation, :fr_offset), Tuple{Symbol, Vararg{Float64, 8}}}, 1, NamedTuple{(:sites, :X, :Y, :Z, :SEFD1, :SEFD2, :fr_parallactic, :fr_elevation, :fr_offset), Tuple{Vector{Symbol}, Vararg{Vector{Float64}, 8}}}}, TypedTables.Table{NamedTuple{(:start, :stop), Tuple{Float64, Float64}}, 1, NamedTuple{(:start, :stop), Tuple{Vector{Float64}, Vector{Float64}}}}, StructArrays.StructVector{Comrade.ArrayBaselineDatum, NamedTuple{(:U, :V, :T, :F, :baseline, :error, :elevation, :parallactic), Tuple{Vector{Float64}, Vector{Float64}, Vector{Float64}, Vector{Float64}, Vector{Tuple{Symbol, Symbol}}, Vector{Float64}, StructArrays.StructVector{Tuple{Float64, Float64}, Tuple{Vector{Float64}, Vector{Float64}}, Int64}, StructArrays.StructVector{Tuple{Float64, Float64}, Tuple{Vector{Float64}, Vector{Float64}}, Int64}}}, Int64}}, Int64}, SparseArrays.SparseMatrixCSC{Float64, Int64}}}, VLBILikelihoods.CholeskyFactor{Float64, SparseArrays.SparseMatrixCSC{Float64, Int64}, SparseArrays.CHOLMOD.Factor{Float64}}}, Vector{Float64}}, Comrade.ConditionedLikelihood{Comrade.var\"#36#37\"{Float64, Base.Fix2{typeof(closure_phases), Comrade.ClosureConfig{Comrade.EHTObservation{Float64, Comrade.EHTVisibilityDatum{Float64}, StructArrays.StructVector{Comrade.EHTVisibilityDatum{Float64}, NamedTuple{(:measurement, :error, :U, :V, :T, :F, :baseline), Tuple{Vector{ComplexF64}, Vector{Float64}, Vector{Float64}, Vector{Float64}, Vector{Float64}, Vector{Float64}, Vector{Tuple{Symbol, Symbol}}}}, Int64}, Comrade.EHTArrayConfiguration{Float64, TypedTables.Table{NamedTuple{(:sites, :X, :Y, :Z, :SEFD1, :SEFD2, :fr_parallactic, :fr_elevation, :fr_offset), Tuple{Symbol, Vararg{Float64, 8}}}, 1, NamedTuple{(:sites, :X, :Y, :Z, :SEFD1, :SEFD2, :fr_parallactic, :fr_elevation, :fr_offset), Tuple{Vector{Symbol}, Vararg{Vector{Float64}, 8}}}}, TypedTables.Table{NamedTuple{(:start, :stop), Tuple{Float64, Float64}}, 1, NamedTuple{(:start, :stop), Tuple{Vector{Float64}, Vector{Float64}}}}, StructArrays.StructVector{Comrade.ArrayBaselineDatum, NamedTuple{(:U, :V, :T, :F, :baseline, :error, :elevation, :parallactic), Tuple{Vector{Float64}, Vector{Float64}, Vector{Float64}, Vector{Float64}, Vector{Tuple{Symbol, Symbol}}, Vector{Float64}, StructArrays.StructVector{Tuple{Float64, Float64}, Tuple{Vector{Float64}, Vector{Float64}}, Int64}, StructArrays.StructVector{Tuple{Float64, Float64}, Tuple{Vector{Float64}, Vector{Float64}}, Int64}}}, Int64}}, Int64}, SparseArrays.SparseMatrixCSC{Float64, Int64}}}, VLBILikelihoods.CholeskyFactor{Float64, SparseArrays.SparseMatrixCSC{Float64, Int64}, SparseArrays.CHOLMOD.Factor{Float64}}}, Vector{Float64}}}, Comrade.ClosureConfig{Comrade.EHTObservation{Float64, Comrade.EHTVisibilityDatum{Float64}, StructArrays.StructVector{Comrade.EHTVisibilityDatum{Float64}, NamedTuple{(:measurement, :error, :U, :V, :T, :F, :baseline), Tuple{Vector{ComplexF64}, Vector{Float64}, Vector{Float64}, Vector{Float64}, Vector{Float64}, Vector{Float64}, Vector{Tuple{Symbol, Symbol}}}}, Int64}, Comrade.EHTArrayConfiguration{Float64, TypedTables.Table{NamedTuple{(:sites, :X, :Y, :Z, :SEFD1, :SEFD2, :fr_parallactic, :fr_elevation, :fr_offset), Tuple{Symbol, Vararg{Float64, 8}}}, 1, NamedTuple{(:sites, :X, :Y, :Z, :SEFD1, :SEFD2, :fr_parallactic, :fr_elevation, :fr_offset), Tuple{Vector{Symbol}, Vararg{Vector{Float64}, 8}}}}, TypedTables.Table{NamedTuple{(:start, :stop), Tuple{Float64, Float64}}, 1, NamedTuple{(:start, :stop), Tuple{Vector{Float64}, Vector{Float64}}}}, StructArrays.StructVector{Comrade.ArrayBaselineDatum, NamedTuple{(:U, :V, :T, :F, :baseline, :error, :elevation, :parallactic), Tuple{Vector{Float64}, Vector{Float64}, Vector{Float64}, Vector{Float64}, Vector{Tuple{Symbol, Symbol}}, Vector{Float64}, StructArrays.StructVector{Tuple{Float64, Float64}, Tuple{Vector{Float64}, Vector{Float64}}, Int64}, StructArrays.StructVector{Tuple{Float64, Float64}, Tuple{Vector{Float64}, Vector{Float64}}, Int64}}}, Int64}}, Int64}, SparseArrays.SparseMatrixCSC{Float64, Int64}}, NamedTuple{(:U, :V, :T, :F), NTuple{4, Vector{Float64}}}}, NamedDist{(:c, :σimg, :fg), Tuple{HierarchicalPrior{var\"#3#4\"{MarkovRandomFieldCache{SparseArrays.SparseMatrixCSC{Float64, Int64}, LinearAlgebra.Diagonal{Float64, Vector{Float64}}, Matrix{Float64}}}, InverseGamma{Float64}}, Truncated{Normal{Float64}, Continuous, Float64, Float64, Nothing}, Uniform{Float64}}}}(RadioLikelihood\n",
       "\tNumber of data products: 2\n",
       ", NamedDist{(:c, :σimg, :fg), Tuple{HierarchicalPrior{var\"#3#4\"{MarkovRandomFieldCache{SparseArrays.SparseMatrixCSC{Float64, Int64}, LinearAlgebra.Diagonal{Float64, Vector{Float64}}, Matrix{Float64}}}, InverseGamma{Float64}}, Truncated{Normal{Float64}, Continuous, Float64, Float64, Nothing}, Uniform{Float64}}}(\n",
       "dists: (HierarchicalPrior{var\"#3#4\"{MarkovRandomFieldCache{SparseArrays.SparseMatrixCSC{Float64, Int64}, LinearAlgebra.Diagonal{Float64, Vector{Float64}}, Matrix{Float64}}}, InverseGamma{Float64}}(\n",
       "priormap: #3\n",
       "hyperprior: InverseGamma{Float64}(\n",
       "invd: Gamma{Float64}(α=1.0, θ=0.3410052124381751)\n",
       "θ: 2.932506494109095\n",
       ")\n",
       "\n",
       ")\n",
       ", Truncated(Normal{Float64}(μ=0.0, σ=0.1); lower=0.0), Uniform{Float64}(a=0.0, b=1.0))\n",
       ")\n",
       ")"
      ]
     },
     "execution_count": 27,
     "metadata": {},
     "output_type": "execute_result"
    }
   ],
   "source": [
    "cprior = HierarchicalPrior(fmap, InverseGamma(1.0, -log(0.01*rat)))\n",
    "\n",
    "prior = NamedDist(c = cprior, σimg = truncated(Normal(0.0, 0.1); lower = 0.0), fg=Uniform(0.0, 1.0))\n",
    "\n",
    "lklhd = RadioLikelihood(sky, dlcamp, dcphase;\n",
    "                        skymeta = metadata)\n",
    "post = Posterior(lklhd, prior)"
   ]
  },
  {
   "cell_type": "code",
   "execution_count": 37,
   "id": "99851311-2039-4a34-b0e9-c9c84bf654c2",
   "metadata": {},
   "outputs": [
    {
     "data": {
      "text/plain": [
       "HierarchicalPrior{var\"#3#4\"{MarkovRandomFieldCache{SparseArrays.SparseMatrixCSC{Float64, Int64}, LinearAlgebra.Diagonal{Float64, Vector{Float64}}, Matrix{Float64}}}, InverseGamma{Float64}}(\n",
       "priormap: #3\n",
       "hyperprior: InverseGamma{Float64}(\n",
       "invd: Gamma{Float64}(α=1.0, θ=0.3410052124381751)\n",
       "θ: 2.932506494109095\n",
       ")\n",
       "\n",
       ")\n"
      ]
     },
     "execution_count": 37,
     "metadata": {},
     "output_type": "execute_result"
    }
   ],
   "source": [
    "cprior"
   ]
  },
  {
   "cell_type": "code",
   "execution_count": 39,
   "id": "e9471770-d963-4bfb-b182-821e1c1f9c47",
   "metadata": {
    "scrolled": true
   },
   "outputs": [
    {
     "data": {
      "text/plain": [
       "Posterior{RadioLikelihood{Comrade.ModelMetadata{typeof(sky), NamedTuple{(:meanpr, :K, :grid, :cache), Tuple{Matrix{Float64}, CenterImage{Matrix{Float64}, Tuple{Int64, Int64}}, GriddedKeys{(:X, :Y), Tuple{LinRange{Float64, Int64}, LinRange{Float64, Int64}}, ComradeBase.NoHeader, Float64}, VLBISkyModels.NUFTCache{NFFTAlg{Float64, AbstractNFFTs.PrecomputeFlags, UInt32}, Nothing, Nothing, BSplinePulse{3}, KeyedArray{Float64, 2, NamedDimsArray{(:X, :Y), Float64, 2, Matrix{Float64}}, GriddedKeys{(:X, :Y), Tuple{LinRange{Float64, Int64}, LinRange{Float64, Int64}}, ComradeBase.NoHeader, Float64}}}}}}, Nothing, Tuple{Comrade.EHTObservation{Float64, Comrade.EHTLogClosureAmplitudeDatum{Float64}, StructArrays.StructVector{Comrade.EHTLogClosureAmplitudeDatum{Float64}, NamedTuple{(:measurement, :error, :U1, :V1, :U2, :V2, :U3, :V3, :U4, :V4, :T, :F, :quadrangle), Tuple{Vector{Float64}, Vector{Float64}, Vector{Float64}, Vector{Float64}, Vector{Float64}, Vector{Float64}, Vector{Float64}, Vector{Float64}, Vector{Float64}, Vector{Float64}, Vector{Float64}, Vector{Float64}, Vector{NTuple{4, Symbol}}}}, Int64}, Comrade.ClosureConfig{Comrade.EHTObservation{Float64, Comrade.EHTVisibilityDatum{Float64}, StructArrays.StructVector{Comrade.EHTVisibilityDatum{Float64}, NamedTuple{(:measurement, :error, :U, :V, :T, :F, :baseline), Tuple{Vector{ComplexF64}, Vector{Float64}, Vector{Float64}, Vector{Float64}, Vector{Float64}, Vector{Float64}, Vector{Tuple{Symbol, Symbol}}}}, Int64}, Comrade.EHTArrayConfiguration{Float64, TypedTables.Table{NamedTuple{(:sites, :X, :Y, :Z, :SEFD1, :SEFD2, :fr_parallactic, :fr_elevation, :fr_offset), Tuple{Symbol, Vararg{Float64, 8}}}, 1, NamedTuple{(:sites, :X, :Y, :Z, :SEFD1, :SEFD2, :fr_parallactic, :fr_elevation, :fr_offset), Tuple{Vector{Symbol}, Vararg{Vector{Float64}, 8}}}}, TypedTables.Table{NamedTuple{(:start, :stop), Tuple{Float64, Float64}}, 1, NamedTuple{(:start, :stop), Tuple{Vector{Float64}, Vector{Float64}}}}, StructArrays.StructVector{Comrade.ArrayBaselineDatum, NamedTuple{(:U, :V, :T, :F, :baseline, :error, :elevation, :parallactic), Tuple{Vector{Float64}, Vector{Float64}, Vector{Float64}, Vector{Float64}, Vector{Tuple{Symbol, Symbol}}, Vector{Float64}, StructArrays.StructVector{Tuple{Float64, Float64}, Tuple{Vector{Float64}, Vector{Float64}}, Int64}, StructArrays.StructVector{Tuple{Float64, Float64}, Tuple{Vector{Float64}, Vector{Float64}}, Int64}}}, Int64}}, Int64}, SparseArrays.SparseMatrixCSC{Float64, Int64}}, Int64}, Comrade.EHTObservation{Float64, Comrade.EHTClosurePhaseDatum{Float64}, StructArrays.StructVector{Comrade.EHTClosurePhaseDatum{Float64}, NamedTuple{(:measurement, :error, :U1, :V1, :U2, :V2, :U3, :V3, :T, :F, :triangle), Tuple{Vector{Float64}, Vector{Float64}, Vector{Float64}, Vector{Float64}, Vector{Float64}, Vector{Float64}, Vector{Float64}, Vector{Float64}, Vector{Float64}, Vector{Float64}, Vector{Tuple{Symbol, Symbol, Symbol}}}}, Int64}, Comrade.ClosureConfig{Comrade.EHTObservation{Float64, Comrade.EHTVisibilityDatum{Float64}, StructArrays.StructVector{Comrade.EHTVisibilityDatum{Float64}, NamedTuple{(:measurement, :error, :U, :V, :T, :F, :baseline), Tuple{Vector{ComplexF64}, Vector{Float64}, Vector{Float64}, Vector{Float64}, Vector{Float64}, Vector{Float64}, Vector{Tuple{Symbol, Symbol}}}}, Int64}, Comrade.EHTArrayConfiguration{Float64, TypedTables.Table{NamedTuple{(:sites, :X, :Y, :Z, :SEFD1, :SEFD2, :fr_parallactic, :fr_elevation, :fr_offset), Tuple{Symbol, Vararg{Float64, 8}}}, 1, NamedTuple{(:sites, :X, :Y, :Z, :SEFD1, :SEFD2, :fr_parallactic, :fr_elevation, :fr_offset), Tuple{Vector{Symbol}, Vararg{Vector{Float64}, 8}}}}, TypedTables.Table{NamedTuple{(:start, :stop), Tuple{Float64, Float64}}, 1, NamedTuple{(:start, :stop), Tuple{Vector{Float64}, Vector{Float64}}}}, StructArrays.StructVector{Comrade.ArrayBaselineDatum, NamedTuple{(:U, :V, :T, :F, :baseline, :error, :elevation, :parallactic), Tuple{Vector{Float64}, Vector{Float64}, Vector{Float64}, Vector{Float64}, Vector{Tuple{Symbol, Symbol}}, Vector{Float64}, StructArrays.StructVector{Tuple{Float64, Float64}, Tuple{Vector{Float64}, Vector{Float64}}, Int64}, StructArrays.StructVector{Tuple{Float64, Float64}, Tuple{Vector{Float64}, Vector{Float64}}, Int64}}}, Int64}}, Int64}, SparseArrays.SparseMatrixCSC{Float64, Int64}}, Int64}}, Tuple{Comrade.ConditionedLikelihood{Comrade.var\"#34#35\"{Float64, Base.Fix2{typeof(logclosure_amplitudes), Comrade.ClosureConfig{Comrade.EHTObservation{Float64, Comrade.EHTVisibilityDatum{Float64}, StructArrays.StructVector{Comrade.EHTVisibilityDatum{Float64}, NamedTuple{(:measurement, :error, :U, :V, :T, :F, :baseline), Tuple{Vector{ComplexF64}, Vector{Float64}, Vector{Float64}, Vector{Float64}, Vector{Float64}, Vector{Float64}, Vector{Tuple{Symbol, Symbol}}}}, Int64}, Comrade.EHTArrayConfiguration{Float64, TypedTables.Table{NamedTuple{(:sites, :X, :Y, :Z, :SEFD1, :SEFD2, :fr_parallactic, :fr_elevation, :fr_offset), Tuple{Symbol, Vararg{Float64, 8}}}, 1, NamedTuple{(:sites, :X, :Y, :Z, :SEFD1, :SEFD2, :fr_parallactic, :fr_elevation, :fr_offset), Tuple{Vector{Symbol}, Vararg{Vector{Float64}, 8}}}}, TypedTables.Table{NamedTuple{(:start, :stop), Tuple{Float64, Float64}}, 1, NamedTuple{(:start, :stop), Tuple{Vector{Float64}, Vector{Float64}}}}, StructArrays.StructVector{Comrade.ArrayBaselineDatum, NamedTuple{(:U, :V, :T, :F, :baseline, :error, :elevation, :parallactic), Tuple{Vector{Float64}, Vector{Float64}, Vector{Float64}, Vector{Float64}, Vector{Tuple{Symbol, Symbol}}, Vector{Float64}, StructArrays.StructVector{Tuple{Float64, Float64}, Tuple{Vector{Float64}, Vector{Float64}}, Int64}, StructArrays.StructVector{Tuple{Float64, Float64}, Tuple{Vector{Float64}, Vector{Float64}}, Int64}}}, Int64}}, Int64}, SparseArrays.SparseMatrixCSC{Float64, Int64}}}, VLBILikelihoods.CholeskyFactor{Float64, SparseArrays.SparseMatrixCSC{Float64, Int64}, SparseArrays.CHOLMOD.Factor{Float64}}}, Vector{Float64}}, Comrade.ConditionedLikelihood{Comrade.var\"#36#37\"{Float64, Base.Fix2{typeof(closure_phases), Comrade.ClosureConfig{Comrade.EHTObservation{Float64, Comrade.EHTVisibilityDatum{Float64}, StructArrays.StructVector{Comrade.EHTVisibilityDatum{Float64}, NamedTuple{(:measurement, :error, :U, :V, :T, :F, :baseline), Tuple{Vector{ComplexF64}, Vector{Float64}, Vector{Float64}, Vector{Float64}, Vector{Float64}, Vector{Float64}, Vector{Tuple{Symbol, Symbol}}}}, Int64}, Comrade.EHTArrayConfiguration{Float64, TypedTables.Table{NamedTuple{(:sites, :X, :Y, :Z, :SEFD1, :SEFD2, :fr_parallactic, :fr_elevation, :fr_offset), Tuple{Symbol, Vararg{Float64, 8}}}, 1, NamedTuple{(:sites, :X, :Y, :Z, :SEFD1, :SEFD2, :fr_parallactic, :fr_elevation, :fr_offset), Tuple{Vector{Symbol}, Vararg{Vector{Float64}, 8}}}}, TypedTables.Table{NamedTuple{(:start, :stop), Tuple{Float64, Float64}}, 1, NamedTuple{(:start, :stop), Tuple{Vector{Float64}, Vector{Float64}}}}, StructArrays.StructVector{Comrade.ArrayBaselineDatum, NamedTuple{(:U, :V, :T, :F, :baseline, :error, :elevation, :parallactic), Tuple{Vector{Float64}, Vector{Float64}, Vector{Float64}, Vector{Float64}, Vector{Tuple{Symbol, Symbol}}, Vector{Float64}, StructArrays.StructVector{Tuple{Float64, Float64}, Tuple{Vector{Float64}, Vector{Float64}}, Int64}, StructArrays.StructVector{Tuple{Float64, Float64}, Tuple{Vector{Float64}, Vector{Float64}}, Int64}}}, Int64}}, Int64}, SparseArrays.SparseMatrixCSC{Float64, Int64}}}, VLBILikelihoods.CholeskyFactor{Float64, SparseArrays.SparseMatrixCSC{Float64, Int64}, SparseArrays.CHOLMOD.Factor{Float64}}}, Vector{Float64}}}, Comrade.ClosureConfig{Comrade.EHTObservation{Float64, Comrade.EHTVisibilityDatum{Float64}, StructArrays.StructVector{Comrade.EHTVisibilityDatum{Float64}, NamedTuple{(:measurement, :error, :U, :V, :T, :F, :baseline), Tuple{Vector{ComplexF64}, Vector{Float64}, Vector{Float64}, Vector{Float64}, Vector{Float64}, Vector{Float64}, Vector{Tuple{Symbol, Symbol}}}}, Int64}, Comrade.EHTArrayConfiguration{Float64, TypedTables.Table{NamedTuple{(:sites, :X, :Y, :Z, :SEFD1, :SEFD2, :fr_parallactic, :fr_elevation, :fr_offset), Tuple{Symbol, Vararg{Float64, 8}}}, 1, NamedTuple{(:sites, :X, :Y, :Z, :SEFD1, :SEFD2, :fr_parallactic, :fr_elevation, :fr_offset), Tuple{Vector{Symbol}, Vararg{Vector{Float64}, 8}}}}, TypedTables.Table{NamedTuple{(:start, :stop), Tuple{Float64, Float64}}, 1, NamedTuple{(:start, :stop), Tuple{Vector{Float64}, Vector{Float64}}}}, StructArrays.StructVector{Comrade.ArrayBaselineDatum, NamedTuple{(:U, :V, :T, :F, :baseline, :error, :elevation, :parallactic), Tuple{Vector{Float64}, Vector{Float64}, Vector{Float64}, Vector{Float64}, Vector{Tuple{Symbol, Symbol}}, Vector{Float64}, StructArrays.StructVector{Tuple{Float64, Float64}, Tuple{Vector{Float64}, Vector{Float64}}, Int64}, StructArrays.StructVector{Tuple{Float64, Float64}, Tuple{Vector{Float64}, Vector{Float64}}, Int64}}}, Int64}}, Int64}, SparseArrays.SparseMatrixCSC{Float64, Int64}}, NamedTuple{(:U, :V, :T, :F), NTuple{4, Vector{Float64}}}}, NamedDist{(:c, :σimg, :fg), Tuple{HierarchicalPrior{var\"#3#4\"{MarkovRandomFieldCache{SparseArrays.SparseMatrixCSC{Float64, Int64}, LinearAlgebra.Diagonal{Float64, Vector{Float64}}, Matrix{Float64}}}, InverseGamma{Float64}}, Truncated{Normal{Float64}, Continuous, Float64, Float64, Nothing}, Uniform{Float64}}}}(RadioLikelihood\n",
       "\tNumber of data products: 2\n",
       ", NamedDist{(:c, :σimg, :fg), Tuple{HierarchicalPrior{var\"#3#4\"{MarkovRandomFieldCache{SparseArrays.SparseMatrixCSC{Float64, Int64}, LinearAlgebra.Diagonal{Float64, Vector{Float64}}, Matrix{Float64}}}, InverseGamma{Float64}}, Truncated{Normal{Float64}, Continuous, Float64, Float64, Nothing}, Uniform{Float64}}}(\n",
       "dists: (HierarchicalPrior{var\"#3#4\"{MarkovRandomFieldCache{SparseArrays.SparseMatrixCSC{Float64, Int64}, LinearAlgebra.Diagonal{Float64, Vector{Float64}}, Matrix{Float64}}}, InverseGamma{Float64}}(\n",
       "priormap: #3\n",
       "hyperprior: InverseGamma{Float64}(\n",
       "invd: Gamma{Float64}(α=1.0, θ=0.3410052124381751)\n",
       "θ: 2.932506494109095\n",
       ")\n",
       "\n",
       ")\n",
       ", Truncated(Normal{Float64}(μ=0.0, σ=0.1); lower=0.0), Uniform{Float64}(a=0.0, b=1.0))\n",
       ")\n",
       ")"
      ]
     },
     "execution_count": 39,
     "metadata": {},
     "output_type": "execute_result"
    }
   ],
   "source": [
    "post"
   ]
  },
  {
   "cell_type": "markdown",
   "id": "1cbe766a-50ff-4484-90ea-b66924b173cb",
   "metadata": {},
   "source": [
    "## 3. Reconstructing the Image"
   ]
  },
  {
   "cell_type": "code",
   "execution_count": 28,
   "id": "440e8081-fa39-4ae6-ba4c-5d5aaf897c24",
   "metadata": {},
   "outputs": [
    {
     "data": {
      "text/plain": [
       "NamedDist{(:c, :σimg, :fg), Tuple{HierarchicalPrior{var\"#3#4\"{MarkovRandomFieldCache{SparseArrays.SparseMatrixCSC{Float64, Int64}, LinearAlgebra.Diagonal{Float64, Vector{Float64}}, Matrix{Float64}}}, InverseGamma{Float64}}, Truncated{Normal{Float64}, Continuous, Float64, Float64, Nothing}, Uniform{Float64}}}(\n",
       "dists: (HierarchicalPrior{var\"#3#4\"{MarkovRandomFieldCache{SparseArrays.SparseMatrixCSC{Float64, Int64}, LinearAlgebra.Diagonal{Float64, Vector{Float64}}, Matrix{Float64}}}, InverseGamma{Float64}}(\n",
       "priormap: #3\n",
       "hyperprior: InverseGamma{Float64}(\n",
       "invd: Gamma{Float64}(α=1.0, θ=0.3410052124381751)\n",
       "θ: 2.932506494109095\n",
       ")\n",
       "\n",
       ")\n",
       ", Truncated(Normal{Float64}(μ=0.0, σ=0.1); lower=0.0), Uniform{Float64}(a=0.0, b=1.0))\n",
       ")\n"
      ]
     },
     "execution_count": 28,
     "metadata": {},
     "output_type": "execute_result"
    }
   ],
   "source": [
    "post.prior"
   ]
  },
  {
   "cell_type": "markdown",
   "id": "a4b4ac5e-9f9b-43ee-bca6-f1c9b870f1fc",
   "metadata": {},
   "source": [
    "NamedDist{(:c, :σimg, :fg), \n",
    "          Tuple{HierarchicalPrior{var\"#3#4\"{MarkovRandomFieldCache{SparseArrays.SparseMatrixCSC{Float64, Int64}, \n",
    "                LinearAlgebra.Diagonal{Float64, Vector{Float64}}, Matrix{Float64}}}, InverseGamma{Float64}},\n",
    "                Truncated{Normal{Float64}, Continuous, Float64, Float64, Nothing}, \n",
    "                            Uniform{Float64}}}(\n",
    "                                dists: (HierarchicalPrior{var\"#3#4\"{MarkovRandomFieldCache{\n",
    "                                            SparseArrays.SparseMatrixCSC{Float64, Int64}, LinearAlgebra.Diagonal{Float64, Vector{Float64}}, \n",
    "                                            Matrix{Float64}}}, InverseGamma{Float64}}(\n",
    "priormap: #3\n",
    "hyperprior: InverseGamma{Float64}(\n",
    "invd: Gamma{Float64}(α=1.0, θ=0.3410052124381751)\n",
    "θ: 2.932506494109095\n",
    ")\n",
    "\n",
    ")\n",
    ", Truncated(Normal{Float64}(μ=0.0, σ=0.1); lower=0.0), Uniform{Float64}(a=0.0, b=1.0))\n",
    ")"
   ]
  },
  {
   "cell_type": "markdown",
   "id": "60959df4-294c-4f28-9fff-58aba70e025e",
   "metadata": {},
   "source": [
    "## 4. Using GaussianRandomFields"
   ]
  },
  {
   "cell_type": "markdown",
   "id": "01bf9d33-dd32-49dd-bb8b-67254d248738",
   "metadata": {},
   "source": [
    "이 posterior에서 샘플링하려면 먼저 제약된 파라미터 공간에서 제약되지 않은 공간으로 이동하는 것이 편리합니다(즉, 변환된 후방의 지지대가 (-∞, ∞) 인 경우). 이 작업은 asflat 함수를 사용하여 수행됩니다."
   ]
  },
  {
   "cell_type": "code",
   "execution_count": 32,
   "id": "f05c9ea7-66e0-4e15-83e7-f1d3bea55d55",
   "metadata": {
    "scrolled": true
   },
   "outputs": [
    {
     "ename": "LoadError",
     "evalue": "MethodError: no method matching GaussMarkovRandomField(::Float64, ::Float64, ::MarkovRandomFieldCache{SparseArrays.SparseMatrixCSC{Float64, Int64}, LinearAlgebra.Diagonal{Float64, Vector{Float64}}, Matrix{Float64}})\n\n\u001b[0mClosest candidates are:\n\u001b[0m  GaussMarkovRandomField(::T, ::C) where {T<:Number, C}\n\u001b[0m\u001b[90m   @\u001b[39m \u001b[32mVLBIImagePriors\u001b[39m \u001b[90m~/.julia/packages/VLBIImagePriors/7f9ze/src/markovrf/\u001b[39m\u001b[90m\u001b[4mgmrf.jl:37\u001b[24m\u001b[39m\n\u001b[0m  GaussMarkovRandomField(::Number, \u001b[91m::MarkovRandomFieldCache\u001b[39m)\n\u001b[0m\u001b[90m   @\u001b[39m \u001b[32mVLBIImagePriors\u001b[39m \u001b[90m~/.julia/packages/VLBIImagePriors/7f9ze/src/markovrf/\u001b[39m\u001b[90m\u001b[4mgmrf.jl:84\u001b[24m\u001b[39m\n\u001b[0m  GaussMarkovRandomField(::Number, \u001b[91m::Tuple{Int64, Int64}\u001b[39m)\n\u001b[0m\u001b[90m   @\u001b[39m \u001b[32mVLBIImagePriors\u001b[39m \u001b[90m~/.julia/packages/VLBIImagePriors/7f9ze/src/markovrf/\u001b[39m\u001b[90m\u001b[4mgmrf.jl:72\u001b[24m\u001b[39m\n\u001b[0m  ...\n",
     "output_type": "error",
     "traceback": [
      "MethodError: no method matching GaussMarkovRandomField(::Float64, ::Float64, ::MarkovRandomFieldCache{SparseArrays.SparseMatrixCSC{Float64, Int64}, LinearAlgebra.Diagonal{Float64, Vector{Float64}}, Matrix{Float64}})\n\n\u001b[0mClosest candidates are:\n\u001b[0m  GaussMarkovRandomField(::T, ::C) where {T<:Number, C}\n\u001b[0m\u001b[90m   @\u001b[39m \u001b[32mVLBIImagePriors\u001b[39m \u001b[90m~/.julia/packages/VLBIImagePriors/7f9ze/src/markovrf/\u001b[39m\u001b[90m\u001b[4mgmrf.jl:37\u001b[24m\u001b[39m\n\u001b[0m  GaussMarkovRandomField(::Number, \u001b[91m::MarkovRandomFieldCache\u001b[39m)\n\u001b[0m\u001b[90m   @\u001b[39m \u001b[32mVLBIImagePriors\u001b[39m \u001b[90m~/.julia/packages/VLBIImagePriors/7f9ze/src/markovrf/\u001b[39m\u001b[90m\u001b[4mgmrf.jl:84\u001b[24m\u001b[39m\n\u001b[0m  GaussMarkovRandomField(::Number, \u001b[91m::Tuple{Int64, Int64}\u001b[39m)\n\u001b[0m\u001b[90m   @\u001b[39m \u001b[32mVLBIImagePriors\u001b[39m \u001b[90m~/.julia/packages/VLBIImagePriors/7f9ze/src/markovrf/\u001b[39m\u001b[90m\u001b[4mgmrf.jl:72\u001b[24m\u001b[39m\n\u001b[0m  ...\n",
      "",
      "Stacktrace:",
      "  [1] (::var\"#3#4\"{MarkovRandomFieldCache{SparseArrays.SparseMatrixCSC{Float64, Int64}, LinearAlgebra.Diagonal{Float64, Vector{Float64}}, Matrix{Float64}}})(x::Float64)",
      "    @ Main ./In[26]:2",
      "  [2] asflat(d::HierarchicalPrior{var\"#3#4\"{MarkovRandomFieldCache{SparseArrays.SparseMatrixCSC{Float64, Int64}, LinearAlgebra.Diagonal{Float64, Vector{Float64}}, Matrix{Float64}}}, InverseGamma{Float64}})",
      "    @ VLBIImagePriors ~/.julia/packages/VLBIImagePriors/7f9ze/src/heirarchical.jl:35",
      "  [3] _broadcast_getindex_evalf(f::typeof(asflat), args::HierarchicalPrior{var\"#3#4\"{MarkovRandomFieldCache{SparseArrays.SparseMatrixCSC{Float64, Int64}, LinearAlgebra.Diagonal{Float64, Vector{Float64}}, Matrix{Float64}}}, InverseGamma{Float64}})",
      "    @ Base.Broadcast ./broadcast.jl:683",
      "  [4] _broadcast_getindex",
      "    @ ./broadcast.jl:656 [inlined]",
      "  [5] (::Base.Broadcast.var\"#31#32\"{Base.Broadcast.Broadcasted{Base.Broadcast.Style{Tuple}, Nothing, typeof(asflat), Tuple{Tuple{HierarchicalPrior{var\"#3#4\"{MarkovRandomFieldCache{SparseArrays.SparseMatrixCSC{Float64, Int64}, LinearAlgebra.Diagonal{Float64, Vector{Float64}}, Matrix{Float64}}}, InverseGamma{Float64}}, Truncated{Normal{Float64}, Continuous, Float64, Float64, Nothing}, Uniform{Float64}}}}})(k::Int64)",
      "    @ Base.Broadcast ./broadcast.jl:1088",
      "  [6] ntuple",
      "    @ ./ntuple.jl:50 [inlined]",
      "  [7] copy",
      "    @ ./broadcast.jl:1088 [inlined]",
      "  [8] materialize",
      "    @ ./broadcast.jl:873 [inlined]",
      "  [9] asflat",
      "    @ ~/.julia/packages/HypercubeTransform/H7xe2/src/asflat.jl:38 [inlined]",
      " [10] asflat(d::NamedDist{(:c, :σimg, :fg), Tuple{HierarchicalPrior{var\"#3#4\"{MarkovRandomFieldCache{SparseArrays.SparseMatrixCSC{Float64, Int64}, LinearAlgebra.Diagonal{Float64, Vector{Float64}}, Matrix{Float64}}}, InverseGamma{Float64}}, Truncated{Normal{Float64}, Continuous, Float64, Float64, Nothing}, Uniform{Float64}}})",
      "    @ VLBIImagePriors ~/.julia/packages/VLBIImagePriors/7f9ze/src/namedist.jl:117",
      " [11] top-level scope",
      "    @ In[32]:1"
     ]
    }
   ],
   "source": [
    "tpost = asflat(post.prior)"
   ]
  },
  {
   "cell_type": "code",
   "execution_count": null,
   "id": "fd2d90dc-e516-4362-a41b-15a24ba70ead",
   "metadata": {},
   "outputs": [],
   "source": [
    "ndim = dimension(tpost)"
   ]
  },
  {
   "cell_type": "code",
   "execution_count": null,
   "id": "985c64db-0bd8-44f7-9cbf-f60bf76a8edf",
   "metadata": {},
   "outputs": [],
   "source": [
    "tpost"
   ]
  },
  {
   "cell_type": "code",
   "execution_count": null,
   "id": "7b92102d-b0bb-4852-bec9-6c34634944df",
   "metadata": {},
   "outputs": [],
   "source": [
    "using ComradeOptimization\n",
    "using OptimizationOptimJL\n",
    "using Zygote\n",
    "f = OptimizationFunction(tpost, Optimization.AutoZygote())\n",
    "prob = Optimization.OptimizationProblem(f, prior_sample(rng, tpost), nothing)\n",
    "sol = solve(prob, LBFGS(); maxiters=5_00);"
   ]
  },
  {
   "cell_type": "code",
   "execution_count": null,
   "id": "f127ac58-647d-4fb6-80ca-0368a75d4336",
   "metadata": {},
   "outputs": [],
   "source": [
    "xopt = transform(tpost, sol)"
   ]
  },
  {
   "cell_type": "code",
   "execution_count": null,
   "id": "1825f350-9ac0-4441-8414-4656daa36d4f",
   "metadata": {},
   "outputs": [],
   "source": [
    "using Plots\n",
    "residual(skymodel(post, xopt), dlcamp, ylabel=\"Log Closure Amplitude Res.\")"
   ]
  },
  {
   "cell_type": "code",
   "execution_count": null,
   "id": "e2cdf3e9-b956-4248-8f02-e37fb1279fa5",
   "metadata": {},
   "outputs": [],
   "source": [
    "residual(skymodel(post, xopt), dcphase, ylabel=\"|Closure Phase Res.|\")"
   ]
  },
  {
   "cell_type": "code",
   "execution_count": null,
   "id": "ccc71451-4b9f-4d2c-8e30-3b56911af06b",
   "metadata": {},
   "outputs": [],
   "source": [
    "import WGLMakie as CM\n",
    "img = intensitymap(skymodel(post, xopt), μas2rad(150.0), μas2rad(150.0), 100, 100)\n",
    "CM.image(img, axis=(xreversed=true, aspect=1, title=\"MAP Image\"), colormap=:afmhot, figure=(;resolution=(400, 400),))"
   ]
  },
  {
   "cell_type": "code",
   "execution_count": null,
   "id": "4ffc16ea-4a30-4988-bd1e-d373b6bcf5cb",
   "metadata": {},
   "outputs": [],
   "source": [
    "using ComradeAHMC\n",
    "using Zygote\n",
    "metric = DiagEuclideanMetric(ndim)\n",
    "chain, stats = sample(post, AHMC(;metric, autodiff=Val(:Zygote)), 700; nadapts=500, init_params=xopt)"
   ]
  },
  {
   "cell_type": "code",
   "execution_count": null,
   "id": "e075bcca-afc4-4a10-b19b-8c245599e5a7",
   "metadata": {},
   "outputs": [],
   "source": [
    "msamples = skymodel.(Ref(post), chain[501:2:end]);"
   ]
  },
  {
   "cell_type": "code",
   "execution_count": null,
   "id": "9dd9a3e8-3f50-4a7d-b217-a658e1dfb7cf",
   "metadata": {},
   "outputs": [],
   "source": [
    "using StatsBase\n",
    "imgs = intensitymap.(msamples, μas2rad(150.0), μas2rad(150.0), 128, 128)\n",
    "mimg = mean(imgs)\n",
    "simg = std(imgs)\n",
    "fig = CM.Figure(;resolution=(400, 400));\n",
    "CM.image(fig[1,1], mimg,\n",
    "                   axis=(xreversed=true, aspect=1, title=\"Mean Image\"),\n",
    "                   colormap=:afmhot)\n",
    "CM.image(fig[1,2], simg./(max.(mimg, 1e-5)),\n",
    "                   axis=(xreversed=true, aspect=1, title=\"1/SNR\",), colorrange=(0.0, 2.0),\n",
    "                   colormap=:afmhot)\n",
    "CM.image(fig[2,1], imgs[1],\n",
    "                   axis=(xreversed=true, aspect=1,title=\"Draw 1\"),\n",
    "                   colormap=:afmhot)\n",
    "CM.image(fig[2,2], imgs[end],\n",
    "                   axis=(xreversed=true, aspect=1,title=\"Draw 2\"),\n",
    "                   colormap=:afmhot)\n",
    "fig"
   ]
  },
  {
   "cell_type": "code",
   "execution_count": null,
   "id": "14207052-369a-4a7b-844a-e8cbfa544166",
   "metadata": {},
   "outputs": [],
   "source": [
    "p = plot();\n",
    "for s in sample(chain[501:end], 10)\n",
    "    residual!(p, vlbimodel(post, s), dlcamp)\n",
    "end\n",
    "ylabel!(\"Log-Closure Amplitude Res.\");\n",
    "p"
   ]
  },
  {
   "cell_type": "code",
   "execution_count": null,
   "id": "02d74b69-cdfa-4331-9ce6-bc7bd8235d6f",
   "metadata": {},
   "outputs": [],
   "source": [
    "p = plot();\n",
    "for s in sample(chain[501:end], 10)\n",
    "    residual!(p, vlbimodel(post, s), dcphase)\n",
    "end\n",
    "ylabel!(\"|Closure Phase Res.|\");\n",
    "p"
   ]
  },
  {
   "cell_type": "code",
   "execution_count": null,
   "id": "570d9840-7957-4280-b3e1-5059b68d0e88",
   "metadata": {},
   "outputs": [],
   "source": []
  }
 ],
 "metadata": {
  "kernelspec": {
   "display_name": "Julia 1.9.2",
   "language": "julia",
   "name": "julia-1.9"
  },
  "language_info": {
   "file_extension": ".jl",
   "mimetype": "application/julia",
   "name": "julia",
   "version": "1.9.2"
  }
 },
 "nbformat": 4,
 "nbformat_minor": 5
}
